{
  "nbformat": 4,
  "nbformat_minor": 0,
  "metadata": {
    "colab": {
      "provenance": [],
      "authorship_tag": "ABX9TyP/Ryl4NUG3ovFhL99/H6j/"
    },
    "kernelspec": {
      "name": "python3",
      "display_name": "Python 3"
    },
    "language_info": {
      "name": "python"
    }
  },
  "cells": [
    {
      "cell_type": "code",
      "execution_count": 1,
      "metadata": {
        "id": "2U_79wNUq9Ch"
      },
      "outputs": [],
      "source": [
        "import pandas as pd\n",
        "import numpy as np\n",
        "import matplotlib.pyplot as plt\n",
        "import scipy.stats as stats\n",
        "import seaborn as sns\n",
        "import statsmodels.api as smf"
      ]
    },
    {
      "cell_type": "markdown",
      "source": [
        "# **Set-3**\n",
        "\n",
        "### **Question-5**"
      ],
      "metadata": {
        "id": "zq_L8l1hrW-f"
      }
    },
    {
      "cell_type": "code",
      "source": [
        "p_hat = .046\n",
        "p = .05\n",
        "n = 2000\n",
        "# z_score = p_hat-p/(p(1-p)/n)**0.5\n",
        "z_score = (p_hat-p)/(np.sqrt((p*(1-p))/n))\n",
        "z_score\n",
        "\n",
        "p_value = stats.norm.sf(0.821)\n",
        "p_value"
      ],
      "metadata": {
        "colab": {
          "base_uri": "https://localhost:8080/"
        },
        "id": "PXMutokzrG_P",
        "outputId": "a38efdec-8304-43ba-bb1e-378e2c83d327"
      },
      "execution_count": 2,
      "outputs": [
        {
          "output_type": "execute_result",
          "data": {
            "text/plain": [
              "0.20582313410777142"
            ]
          },
          "metadata": {},
          "execution_count": 2
        }
      ]
    },
    {
      "cell_type": "code",
      "source": [
        "if p_value>0.05:\n",
        "    print(\"\"\"No: Microsoft could not conclude that Mozilla has a less\n",
        "    than 5% share of the market even if the sample were\n",
        "    based on 2,000 users\"\"\")\n",
        "else:\n",
        "    print(\"Yes\")"
      ],
      "metadata": {
        "colab": {
          "base_uri": "https://localhost:8080/"
        },
        "id": "DGZ8McXfrLgG",
        "outputId": "91af2932-0293-4dd9-c58d-05fe76429355"
      },
      "execution_count": 3,
      "outputs": [
        {
          "output_type": "stream",
          "name": "stdout",
          "text": [
            "No: Microsoft could not conclude that Mozilla has a less\n",
            "    than 5% share of the market even if the sample were \n",
            "    based on 2,000 users\n"
          ]
        }
      ]
    }
  ]
}