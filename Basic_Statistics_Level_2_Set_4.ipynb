{
  "nbformat": 4,
  "nbformat_minor": 0,
  "metadata": {
    "colab": {
      "provenance": [],
      "authorship_tag": "ABX9TyPjFOXfkrts2K9Iz1+U6KlM"
    },
    "kernelspec": {
      "name": "python3",
      "display_name": "Python 3"
    },
    "language_info": {
      "name": "python"
    }
  },
  "cells": [
    {
      "cell_type": "code",
      "execution_count": 1,
      "metadata": {
        "id": "xkUCWRbzrx47"
      },
      "outputs": [],
      "source": [
        "import pandas as pd\n",
        "import numpy as np\n",
        "import matplotlib.pyplot as plt\n",
        "import scipy.stats as stats\n",
        "import seaborn as sns\n",
        "import statsmodels.api as smf\n",
        "import warnings\n",
        "warnings.filterwarnings('ignore')"
      ]
    },
    {
      "cell_type": "markdown",
      "source": [
        "# **Set-3**\n",
        "\n",
        "### **Question-3**"
      ],
      "metadata": {
        "id": "HZ-BvYcDD0JE"
      }
    },
    {
      "cell_type": "code",
      "source": [
        "mean = 50\n",
        "std = 40\n",
        "n = 100\n",
        "d_f = 100 - 1 #degree of freedom\n",
        "#the probability that there will be an investigation,\n",
        "#if the mean transactions amount increases more than 55 USD or less than 45 USD\n",
        "# no investigation if the mean transactions amount remains between 45 to 55 USD\n",
        "\n",
        "# we will go for t-distribution as population standard deviation is unknown\n",
        "t_forty_five = (45-50)/(40/np.sqrt(100))\n",
        "\n",
        "t_fifty_five = (55-50)/(40/np.sqrt(100))\n",
        "\n",
        "forty_five = stats.t.cdf(t_forty_five, df = d_f)\n",
        "\n",
        "fifty_five = stats.t.cdf(t_fifty_five, d_f)\n",
        "\n",
        "prob = fifty_five - forty_five\n",
        "\n",
        "\n",
        "print('The probability that in any given week, there will be an investigation is',np.round((1-prob)*100,1),'%')"
      ],
      "metadata": {
        "colab": {
          "base_uri": "https://localhost:8080/"
        },
        "id": "uv-a4_3ptLUY",
        "outputId": "50626e13-f392-4352-8f69-8a1ec7d2df73"
      },
      "execution_count": 10,
      "outputs": [
        {
          "output_type": "stream",
          "name": "stdout",
          "text": [
            "The probability that in any given week, there will be an investigation is 21.4 %\n"
          ]
        }
      ]
    },
    {
      "cell_type": "markdown",
      "source": [
        "### **Question-4**"
      ],
      "metadata": {
        "id": "eOlH5qrmEBtl"
      }
    },
    {
      "cell_type": "code",
      "source": [
        "x_bar = 45\n",
        "s_std = 40\n",
        "mew = 50\n",
        "\n",
        "t = np.round(stats.t.ppf(0.025, df = 249),2)\n",
        "t\n",
        "\n",
        "# t_value = (x_bar - mew)/(sample_std/n**0.5)\n",
        "# t = 45-50 or z = 55-50 z = +/- 5\n",
        "\n",
        "# t = 5/(40/n**0.5)\n",
        "# n = (sample_standard_deviation*tscore)/(sample_mean=population_mean)\n",
        "n = ((s_std*abs(t)) / (5))**2\n",
        "\n",
        "print('The Auditors would like to maintain the probability of investigation to 5%, they should sample',np.round(n,),'transactions if they do not want to change the thresholds of 45 to 55')\n"
      ],
      "metadata": {
        "colab": {
          "base_uri": "https://localhost:8080/"
        },
        "id": "gUQipL5rtNeH",
        "outputId": "c8026343-b209-46df-91f4-151dbc1ff955"
      },
      "execution_count": 9,
      "outputs": [
        {
          "output_type": "stream",
          "name": "stdout",
          "text": [
            "The Auditors would like to maintain the probability of investigation to 5%, they should sample 248.0 transactions if they do not want to change the thresholds of 45 to 55\n",
            "248.3776 247.3776\n"
          ]
        }
      ]
    }
  ]
}