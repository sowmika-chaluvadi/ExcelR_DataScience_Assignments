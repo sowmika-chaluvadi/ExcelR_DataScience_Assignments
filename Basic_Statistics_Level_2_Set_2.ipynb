{
  "nbformat": 4,
  "nbformat_minor": 0,
  "metadata": {
    "colab": {
      "provenance": [],
      "authorship_tag": "ABX9TyPmZ6JW92zM2s9wLyDsHnTk"
    },
    "kernelspec": {
      "name": "python3",
      "display_name": "Python 3"
    },
    "language_info": {
      "name": "python"
    }
  },
  "cells": [
    {
      "cell_type": "code",
      "execution_count": 1,
      "metadata": {
        "id": "tMC7TlDSd6Ho"
      },
      "outputs": [],
      "source": [
        "import pandas as pd\n",
        "import numpy as np\n",
        "import matplotlib.pyplot as plt\n",
        "import scipy.stats as stats\n",
        "import seaborn as sns\n",
        "import statsmodels.api as smf\n",
        "import warnings\n",
        "warnings.filterwarnings('ignore')"
      ]
    },
    {
      "cell_type": "markdown",
      "source": [
        "# **Set-2**\n",
        "\n",
        "### **Question-1**"
      ],
      "metadata": {
        "id": "a-_Ycu1fgoDW"
      }
    },
    {
      "cell_type": "code",
      "source": [
        "\"\"\"the serving work will began after 10 min of drop off so 45+10\n",
        "which will now take more than the usual time so new mew is 55 minutes\n",
        "and the porbbaility that it will take more than 1 hour to complete\"\"\"\n",
        "newMew = 55\n",
        "std = 8\n",
        "q1 = stats.norm.sf(60, loc = newMew, scale = std)\n",
        "print(\"The probability that the service manager cannot meet his commitment is\",np.round(q1,4))"
      ],
      "metadata": {
        "colab": {
          "base_uri": "https://localhost:8080/"
        },
        "id": "6o75tvkSeOAq",
        "outputId": "7dc68847-d59c-4340-8c9e-584f42e93b6c"
      },
      "execution_count": 6,
      "outputs": [
        {
          "output_type": "stream",
          "name": "stdout",
          "text": [
            "The probability that the service manager cannot meet his commitment is 0.266\n"
          ]
        }
      ]
    },
    {
      "cell_type": "markdown",
      "source": [
        "### **Question-2**"
      ],
      "metadata": {
        "id": "qTJyBh-Ygzxq"
      }
    },
    {
      "cell_type": "code",
      "source": [
        "mean = 38\n",
        "std1 = 6\n",
        "q2LessThan_38= stats.norm.cdf(38, loc = mean, scale = std1)\n",
        "q2LessThan_44= stats.norm.cdf(44, loc = mean,  scale = std1)\n",
        "q2Between_38_and_44 = (q2LessThan_44 - q2LessThan_38)\n",
        "print('The probability of employee age betweeen 38 and 44 is',np.round(q2Between_38_and_44 *100,2),'%')\n",
        "q2Morethan_44 = 1-stats.norm.cdf(44, loc = mean, scale = std1)\n",
        "print('The probability of employee age more than 44 is',np.round(q2Morethan_44*100,2),'%')\n",
        "print('Answer:',q2Morethan_44 > q2Between_38_and_44)\n",
        "q2b = stats.norm.cdf(30, loc = mean, scale = std1)\n",
        "print(\"A training program for employees under the age of 30 at the center would be expected to attract about\",np.round((q2b*400),0),'employees')"
      ],
      "metadata": {
        "colab": {
          "base_uri": "https://localhost:8080/"
        },
        "id": "BPIb6DfieQ8G",
        "outputId": "5cd6eeb1-05c1-4a45-c3b7-4b14992b0222"
      },
      "execution_count": 9,
      "outputs": [
        {
          "output_type": "stream",
          "name": "stdout",
          "text": [
            "The probability of employee age betweeen 38 and 44 is 34.13 %\n",
            "The probability of employee age more than 44 is 15.87 %\n",
            "Answer: False\n",
            "A training program for employees under the age of 30 at the center would be expected to attract about 36.0 employees\n"
          ]
        }
      ]
    },
    {
      "cell_type": "markdown",
      "source": [
        "### **Question-4**"
      ],
      "metadata": {
        "id": "jMa9SB_vg6CL"
      }
    },
    {
      "cell_type": "code",
      "source": [
        "# Given\n",
        "mew = 100\n",
        "std = 20\n",
        "# p(a<x<b)\n",
        "#To Find =\n",
        "\"\"\" two values, a and b, symmetric about the mean, such that the\n",
        "probability of the random variable taking a value between them is 0.99\"\"\"\n",
        "# Solution\n",
        "\"\"\" From the above details,we have to exclude .005% area from each\n",
        "left and right tails. Hence, we want to find the .005th and the\n",
        ".995th percentiles Z score values\"\"\"\n",
        "\n",
        "# Z value for .005 percentiles\n",
        "z_005_ = np.round(stats.norm.ppf(0.005),4)\n",
        "z_005_\n",
        "\n",
        "# Z value for .99 percentiles\n",
        "z_99_ = np.round(stats.norm.ppf(0.995),4)\n",
        "z_99_\n",
        "\n",
        "#z = (x_bar - mew) / std\n",
        "#x_bar = (z*std) + mew\n",
        "a = np.round((z_005_*std) + mew,1)\n",
        "b = np.round((z_99_*std) + mew,1)\n",
        "print(\"The two values of a and b, symmetric about the mean, are such that the probability of the random variable taking a value between them is 0.99:\",a,b)"
      ],
      "metadata": {
        "colab": {
          "base_uri": "https://localhost:8080/"
        },
        "id": "bgIMsaXperQp",
        "outputId": "2c2e0ae9-ee3c-4820-d260-03f327ddcfb2"
      },
      "execution_count": 10,
      "outputs": [
        {
          "output_type": "stream",
          "name": "stdout",
          "text": [
            "The two values of a and b, symmetric about the mean, are such that the probability of the random variable taking a value between them is 0.99: 48.5 151.5\n"
          ]
        }
      ]
    },
    {
      "cell_type": "markdown",
      "source": [
        "### **Question-5**"
      ],
      "metadata": {
        "id": "h2_P31Wyg_sV"
      }
    },
    {
      "cell_type": "code",
      "source": [
        "# Combine Mean Profit of both division for Company= mean1 + mean2\n",
        "mean1 = 5\n",
        "mean2 = 7\n",
        "Mean = (mean1+mean2) # 1 USD = 45 rupees\n",
        "print('The Mean Profit of both division:',Mean, 'Million$')\n",
        "print('The Mean Profit of both division:',(Mean*45)/10, 'Crore Rupees')\n",
        "\n",
        "# Combine standard Deviation = (Std1^2 + Std2^2)^1/2\n",
        "std1 = 3**2\n",
        "std2 = 4**2\n",
        "Std = np.sqrt(std1 + std2)\n",
        "print('The Standard Deviation of both division:', Std, 'Million$')\n",
        "print('The Standard Deviation of both division:', (Std*45)/10, 'Crore Rupees')"
      ],
      "metadata": {
        "colab": {
          "base_uri": "https://localhost:8080/"
        },
        "id": "yAusEIV_fjdS",
        "outputId": "1e1244b7-fc99-4d87-8e05-e68919cf945e"
      },
      "execution_count": 13,
      "outputs": [
        {
          "output_type": "stream",
          "name": "stdout",
          "text": [
            "The Mean Profit of both division: 12 Million$\n",
            "The Mean Profit of both division: 54.0 Crore Rupees\n",
            "The Standard Deviation of both division: 5.0 Million$\n",
            "The Standard Deviation of both division: 22.5 Crore Rupees\n"
          ]
        }
      ]
    },
    {
      "cell_type": "markdown",
      "source": [
        "### **Question-5(A)**"
      ],
      "metadata": {
        "id": "_e6kdNA4hDOe"
      }
    },
    {
      "cell_type": "code",
      "source": [
        "r1, r2 = np.round(stats.norm.interval(0.95, Mean, Std),2)\n",
        "print('Rupee Ranges from',r1,'to',r2,'Million$ in Annual profit of the Company 95% of the time')\n",
        "print('Rupee Ranges from',np.divide(np.multiply(r1,45),10),'to',np.divide(np.multiply(r2,45),10),'Crore Rupees in Annual profit of Company 95% of the time')"
      ],
      "metadata": {
        "colab": {
          "base_uri": "https://localhost:8080/"
        },
        "id": "Z70TFK4NftE7",
        "outputId": "baf7f228-c17f-4f78-e0c3-81b0aae2f441"
      },
      "execution_count": 12,
      "outputs": [
        {
          "output_type": "stream",
          "name": "stdout",
          "text": [
            "Rupee Ranges from 2.2 to 21.8 Million$ in Annual profit of the Company 95% of the time\n",
            "Rupee Ranges from 9.900000000000002 to 98.1 Crore Rupees in Annual profit of Company 95% of the time\n"
          ]
        }
      ]
    },
    {
      "cell_type": "markdown",
      "source": [
        "### **Question-5(B)**"
      ],
      "metadata": {
        "id": "4qcQ4ek-hIRr"
      }
    },
    {
      "cell_type": "code",
      "source": [
        "# Z value  = X_bar - Mew / Std pop\n",
        "# for percentile, X_percentile = (Zvalue * Std pop) + Mew\n",
        "Z_05_ = stats.norm.ppf(0.05)\n",
        "Fifth_percentile = (Z_05_ * Std) + Mean\n",
        "print('The 5th percentile of Profit for the company is',np.round(Fifth_percentile,2),'Million$')\n",
        "print('The 5th percentile of Profit for the company is',np.round((Fifth_percentile*45)/10,),'Crore Rupees')"
      ],
      "metadata": {
        "id": "nWbSMi-Pf3oh"
      },
      "execution_count": null,
      "outputs": []
    },
    {
      "cell_type": "markdown",
      "source": [
        "### **Question-5(C)**"
      ],
      "metadata": {
        "id": "pmkX1E3yhKQ-"
      }
    },
    {
      "cell_type": "code",
      "source": [
        "# The probability of Division #1 making a loss\n",
        "print('The Probability of Division #1 making a loss is',np.round((stats.norm.cdf(0,5,3))*100,2),'%')\n",
        "\n",
        "# The probability of Division #2 making a loss\n",
        "print('The Probability of Division #2 making a loss is',np.round((stats.norm.cdf(0,7,4))*100,2),'%')\n",
        "\n",
        "Division_1 = (stats.norm.cdf(0,5,3))*100\n",
        "Division_2 = (stats.norm.cdf(0,7,4))*100\n",
        "\n",
        "if Division_1>Division_2:\n",
        "    print('The Division 1 has a larger Probability of making a loss')\n",
        "else:\n",
        "          print('The Division 2 has a larger Porbability of making a loss')"
      ],
      "metadata": {
        "id": "yBQ9TA93glgn"
      },
      "execution_count": null,
      "outputs": []
    }
  ]
}